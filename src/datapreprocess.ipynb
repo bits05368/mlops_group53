{
  "cells": [
    {
      "cell_type": "markdown",
      "metadata": {
        "colab_type": "text",
        "id": "view-in-github"
      },
      "source": [
        "<a href=\"https://colab.research.google.com/github/bits05368/mlops_group53/blob/main/src/datapreprocess.ipynb\" target=\"_parent\"><img src=\"https://colab.research.google.com/assets/colab-badge.svg\" alt=\"Open In Colab\"/></a>"
      ]
    },
    {
      "cell_type": "code",
      "execution_count": 7,
      "metadata": {
        "id": "FBQeNjD56xAB"
      },
      "outputs": [
        {
          "name": "stdout",
          "output_type": "stream",
          "text": [
            "✅ Data saved to data/train.csv and data/test.csv\n"
          ]
        }
      ],
      "source": [
        "import os\n",
        "import pandas as pd\n",
        "from sklearn.datasets import load_iris\n",
        "from sklearn.model_selection import train_test_split\n",
        "\n",
        "def get_data_folder():\n",
        "    # Get the project root directory (parent of src)\n",
        "    try:\n",
        "        # Path to the src folder\n",
        "        src_dir = os.path.dirname(os.path.abspath(__file__))\n",
        "    except NameError:\n",
        "        # If running in notebook, assume working dir is project root\n",
        "        src_dir = os.getcwd()\n",
        "\n",
        "    # Project root is one level up from src\n",
        "    project_root = os.path.abspath(os.path.join(src_dir, \"..\"))\n",
        "\n",
        "    # Data directory at project root\n",
        "    data_folder = os.path.join(project_root, \"data\")\n",
        "    os.makedirs(data_folder, exist_ok=True)\n",
        "\n",
        "    \n",
        "    return data_folder\n",
        "\n",
        "def load_and_preprocess():\n",
        "\n",
        "  \n",
        "    data_dir = get_data_folder()\n",
        "\n",
        "\n",
        "    \"\"\"Load Iris dataset and split into train/test sets.\"\"\"\n",
        "\n",
        "    iris = load_iris(as_frame=True)\n",
        "    df = iris.frame  # Combine features + target\n",
        "\n",
        "    # Rename target column for clarity\n",
        "    df.rename(columns={\"target\": \"species\"}, inplace=True)\n",
        "\n",
        "    # Split dataset\n",
        "    train_df, test_df = train_test_split(df, test_size=0.2, random_state=42)\n",
        "\n",
        "    # Save datasets\n",
        "  \n",
        "    # Save CSVs in project-root/data\n",
        "    df.to_csv(os.path.join(data_dir, \"iris.csv\"), index=False)\n",
        "    train_df.to_csv(os.path.join(data_dir, \"train.csv\"), index=False)\n",
        "    test_df.to_csv(os.path.join(data_dir, \"test.csv\"), index=False)\n",
        "\n",
        "    print(\"✅ Data saved to data/train.csv and data/test.csv\")\n",
        "\n",
        "if __name__ == \"__main__\":\n",
        "    load_and_preprocess()"
      ]
    }
  ],
  "metadata": {
    "colab": {
      "authorship_tag": "ABX9TyM+gKZe2Nszn5qs7gyiOdaa",
      "include_colab_link": true,
      "provenance": []
    },
    "kernelspec": {
      "display_name": ".venv (3.13.6)",
      "language": "python",
      "name": "python3"
    },
    "language_info": {
      "codemirror_mode": {
        "name": "ipython",
        "version": 3
      },
      "file_extension": ".py",
      "mimetype": "text/x-python",
      "name": "python",
      "nbconvert_exporter": "python",
      "pygments_lexer": "ipython3",
      "version": "3.13.6"
    }
  },
  "nbformat": 4,
  "nbformat_minor": 0
}
