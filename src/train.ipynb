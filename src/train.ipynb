{
  "cells": [
    {
      "cell_type": "markdown",
      "metadata": {
        "colab_type": "text",
        "id": "view-in-github"
      },
      "source": [
        "<a href=\"https://colab.research.google.com/github/bits05368/mlops_group53/blob/main/src/train.ipynb\" target=\"_parent\"><img src=\"https://colab.research.google.com/assets/colab-badge.svg\" alt=\"Open In Colab\"/></a>"
      ]
    },
    {
      "cell_type": "code",
      "execution_count": null,
      "metadata": {
        "id": "Dih3E0UxSbhk"
      },
      "outputs": [],
      "source": [
        "import os\n",
        "import pandas as pd\n",
        "import mlflow\n",
        "import mlflow.sklearn\n",
        "from sklearn.linear_model import LogisticRegression\n",
        "from sklearn.ensemble import RandomForestClassifier\n",
        "from sklearn.metrics import accuracy_score\n",
        "from urllib.parse import urlparse\n",
        "from utils import get_data_folder\n",
        "\n",
        "# Paths\n",
        "datafolder = get_data_folder()\n",
        "TRAIN_FP = os.path.join(datafolder, \"processed\", \"train.csv\")\n",
        "TEST_FP = os.path.join(datafolder, \"processed\", \"test.csv\")\n",
        "\n",
        "def load_data():\n",
        "    train_df = pd.read_csv(TRAIN_FP)\n",
        "    test_df = pd.read_csv(TEST_FP)\n",
        "\n",
        "    # X: all numeric features except target columns\n",
        "    X_train = train_df.drop(columns=[\"target\", \"target_name\"], errors=\"ignore\")\n",
        "    y_train = train_df[\"target\"]\n",
        "    X_test = test_df.drop(columns=[\"target\", \"target_name\"], errors=\"ignore\")\n",
        "    y_test = test_df[\"target\"]\n",
        "    return X_train, X_test, y_train, y_test\n",
        "\n",
        "def train_and_log_model(model_cls, params, X_train, X_test, y_train, y_test):\n",
        "    with mlflow.start_run():\n",
        "        model = model_cls(**params)\n",
        "        model.fit(X_train, y_train)\n",
        "        preds = model.predict(X_test)\n",
        "        acc = accuracy_score(y_test, preds)\n",
        "\n",
        "        # Log params & metrics\n",
        "        mlflow.log_params(params)\n",
        "        mlflow.log_metric(\"accuracy\", acc)\n",
        "\n",
        "        # Log model\n",
        "        mlflow.sklearn.log_model(model, \"model\")\n",
        "\n",
        "        print(f\"{model_cls.__name__} accuracy: {acc:.4f}\")\n",
        "        return acc, mlflow.active_run().info.run_id\n",
        "\n",
        "def main():\n",
        "    mlflow.set_tracking_uri(\"http://127.0.0.1:5000\")  # Change if needed\n",
        "    mlflow.set_experiment(\"iris_experiment\")\n",
        "\n",
        "    X_train, X_test, y_train, y_test = load_data()\n",
        "\n",
        "    results = []\n",
        "\n",
        "    # Model 1: Logistic Regression\n",
        "    lr_params = {\"max_iter\": 200}\n",
        "    acc, run_id = train_and_log_model(LogisticRegression, lr_params,\n",
        "                                      X_train, X_test, y_train, y_test)\n",
        "    results.append((\"LogisticRegression\", acc, run_id))\n",
        "\n",
        "    # Model 2: Random Forest\n",
        "    rf_params = {\"n_estimators\": 100, \"random_state\": 42}\n",
        "    acc, run_id = train_and_log_model(RandomForestClassifier, rf_params,\n",
        "                                      X_train, X_test, y_train, y_test)\n",
        "    results.append((\"RandomForestClassifier\", acc, run_id))\n",
        "\n",
        "    # Pick best model\n",
        "    best_model_name, best_acc, best_run_id = max(results, key=lambda x: x[1])\n",
        "    print(f\"Best model: {best_model_name} (acc={best_acc:.4f})\")\n",
        "\n",
        "    # Register best model in MLflow Model Registry\n",
        "    # Works only if backend supports registry (e.g., file store, SQL, etc.)\n",
        "    tracking_url_type_store = urlparse(mlflow.get_tracking_uri()).scheme\n",
        "    if tracking_url_type_store != \"file\":  # registry not available with local file store\n",
        "        model_uri = f\"runs:/{best_run_id}/model\"\n",
        "        mlflow.register_model(model_uri, \"IrisBestModel\")\n",
        "        print(\"Model registered as IrisBestModel\")\n",
        "    else:\n",
        "        print(\"Model registry not supported with 'file' store backend.\")\n",
        "\n",
        "if __name__ == \"__main__\":\n",
        "    main()"
      ]
    }
  ],
  "metadata": {
    "colab": {
      "authorship_tag": "ABX9TyP6VX4pf5vC9tNxpakwqjqW",
      "include_colab_link": true,
      "provenance": []
    },
    "kernelspec": {
      "display_name": ".venv (3.13.6)",
      "language": "python",
      "name": "python3"
    },
    "language_info": {
      "codemirror_mode": {
        "name": "ipython",
        "version": 3
      },
      "file_extension": ".py",
      "mimetype": "text/x-python",
      "name": "python",
      "nbconvert_exporter": "python",
      "pygments_lexer": "ipython3",
      "version": "3.13.6"
    }
  },
  "nbformat": 4,
  "nbformat_minor": 0
}
