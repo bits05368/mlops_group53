{
  "cells": [
    {
      "cell_type": "markdown",
      "metadata": {
        "colab_type": "text",
        "id": "view-in-github"
      },
      "source": [
        "<a href=\"https://colab.research.google.com/github/bits05368/mlops_group53/blob/main/src/train.ipynb\" target=\"_parent\"><img src=\"https://colab.research.google.com/assets/colab-badge.svg\" alt=\"Open In Colab\"/></a>"
      ]
    },
    {
      "cell_type": "code",
      "execution_count": 2,
      "metadata": {
        "id": "Dih3E0UxSbhk"
      },
      "outputs": [
        {
          "name": "stdout",
          "output_type": "stream",
          "text": [
            "✅ Data saved to data/train.csv and data/test.csv\n",
            "start: logostic regression and random forest\n"
          ]
        },
        {
          "name": "stderr",
          "output_type": "stream",
          "text": [
            "2025/08/10 21:27:36 WARNING mlflow.models.model: `artifact_path` is deprecated. Please use `name` instead.\n",
            "2025/08/10 21:27:51 WARNING mlflow.models.model: Model logged without a signature and input example. Please set `input_example` parameter when logging the model to auto infer the model signature.\n"
          ]
        },
        {
          "name": "stdout",
          "output_type": "stream",
          "text": [
            "LogisticRegression accuracy: 1.0000\n",
            "🏃 View run flawless-ray-511 at: http://127.0.0.1:5000/#/experiments/808870352437419120/runs/d0d60a455a1442aea7ea5864b366c98b\n",
            "🧪 View experiment at: http://127.0.0.1:5000/#/experiments/808870352437419120\n"
          ]
        },
        {
          "name": "stderr",
          "output_type": "stream",
          "text": [
            "2025/08/10 21:27:52 WARNING mlflow.models.model: `artifact_path` is deprecated. Please use `name` instead.\n",
            "2025/08/10 21:27:58 WARNING mlflow.models.model: Model logged without a signature and input example. Please set `input_example` parameter when logging the model to auto infer the model signature.\n",
            "Successfully registered model 'LogisticRegression_Model'.\n",
            "2025/08/10 21:27:58 WARNING mlflow.tracking._model_registry.fluent: Run with id d0d60a455a1442aea7ea5864b366c98b has no artifacts at artifact path 'model', registering model based on models:/m-3e6a273c0bec44e491ade98fc670d57a instead\n"
          ]
        },
        {
          "name": "stdout",
          "output_type": "stream",
          "text": [
            "RandomForestClassifier accuracy: 1.0000\n",
            "🏃 View run beautiful-seal-149 at: http://127.0.0.1:5000/#/experiments/808870352437419120/runs/2c1db0b0e6904f2d86e90fdbc2acc312\n",
            "🧪 View experiment at: http://127.0.0.1:5000/#/experiments/808870352437419120\n",
            "complete: logostic regression and random forest\n",
            "Best model: LogisticRegression (acc=1.0000)\n"
          ]
        },
        {
          "name": "stderr",
          "output_type": "stream",
          "text": [
            "2025/08/10 21:27:59 INFO mlflow.store.model_registry.abstract_store: Waiting up to 300 seconds for model version to finish creation. Model name: LogisticRegression_Model, version 1\n",
            "Created version '1' of model 'LogisticRegression_Model'.\n"
          ]
        },
        {
          "name": "stdout",
          "output_type": "stream",
          "text": [
            "Registered LogisticRegression as version 1 in MLflow Model Registry\n"
          ]
        }
      ],
      "source": [
        "import os\n",
        "import pandas as pd\n",
        "import mlflow\n",
        "import mlflow.sklearn\n",
        "from sklearn.linear_model import LogisticRegression\n",
        "from sklearn.ensemble import RandomForestClassifier\n",
        "from sklearn.metrics import accuracy_score\n",
        "from urllib.parse import urlparse\n",
        "from utils import get_data_folder\n",
        "from datapreprocess import load_and_preprocess  \n",
        "\n",
        "# Paths\n",
        "datafolder = get_data_folder()\n",
        "TRAIN_FP = os.path.join(datafolder, \"train.csv\")\n",
        "TEST_FP = os.path.join(datafolder, \"test.csv\")\n",
        "\n",
        "def load_data():\n",
        "    train_df = pd.read_csv(TRAIN_FP)\n",
        "    test_df = pd.read_csv(TEST_FP)\n",
        "\n",
        "    # X: all numeric features except target columns\n",
        "    X_train = train_df.drop(columns=[\"target\", \"target_name\"], errors=\"ignore\")\n",
        "    y_train = train_df[\"target\"]\n",
        "    X_test = test_df.drop(columns=[\"target\", \"target_name\"], errors=\"ignore\")\n",
        "    y_test = test_df[\"target\"]\n",
        "    return X_train, X_test, y_train, y_test\n",
        "\n",
        "def train_and_log_model(model_cls, params, X_train, X_test, y_train, y_test):\n",
        "    with mlflow.start_run():\n",
        "        model = model_cls(**params)\n",
        "        model.fit(X_train, y_train)\n",
        "        preds = model.predict(X_test)\n",
        "        acc = accuracy_score(y_test, preds)\n",
        "\n",
        "        # Log params & metrics\n",
        "        mlflow.log_params(params)\n",
        "        mlflow.log_metric(\"accuracy\", acc)\n",
        "\n",
        "        # Log model\n",
        "        mlflow.sklearn.log_model(model, \"model\")\n",
        "\n",
        "        print(f\"{model_cls.__name__} accuracy: {acc:.4f}\")\n",
        "        return acc, mlflow.active_run().info.run_id\n",
        "\n",
        "def main():\n",
        "    mlflow.set_tracking_uri(\"http://127.0.0.1:5000\")  # Change if needed\n",
        "    mlflow.set_experiment(\"iris_experiment\")\n",
        "\n",
        "    load_and_preprocess()\n",
        "\n",
        "    X_train, X_test, y_train, y_test = load_data()\n",
        "\n",
        "    results = []\n",
        "    print(f\"start: logostic regression and random forest\")\n",
        "    # Model 1: Logistic Regression\n",
        "    lr_params = {\"max_iter\": 200}\n",
        "    acc, run_id = train_and_log_model(LogisticRegression, lr_params,\n",
        "                                      X_train, X_test, y_train, y_test)\n",
        "    results.append((\"LogisticRegression\", acc, run_id))\n",
        "\n",
        "    # Model 2: Random Forest\n",
        "    rf_params = {\"n_estimators\": 100, \"random_state\": 42}\n",
        "    acc, run_id = train_and_log_model(RandomForestClassifier, rf_params,\n",
        "                                      X_train, X_test, y_train, y_test)\n",
        "    results.append((\"RandomForestClassifier\", acc, run_id))\n",
        "    print(f\"complete: logostic regression and random forest\")\n",
        "\n",
        "    # Pick best model\n",
        "    best_model_name, best_acc, best_run_id = max(results, key=lambda x: x[1])\n",
        "    print(f\"Best model: {best_model_name} (acc={best_acc:.4f})\")\n",
        "\n",
        "# -----------------------------\n",
        "    # Register the best model\n",
        "    # -----------------------------\n",
        "    tracking_uri_type = urlparse(mlflow.get_tracking_uri()).scheme\n",
        "    model_uri = f\"runs:/{best_run_id}/model\"\n",
        "\n",
        "    if tracking_uri_type != \"file\":\n",
        "        # Register to MLflow Model Registry\n",
        "        model_version = mlflow.register_model(model_uri, f\"{best_model_name}_Model\")\n",
        "        print(f\"Registered {best_model_name} as version {model_version.version} in MLflow Model Registry\")\n",
        "    else:\n",
        "        print(\"Model Registry not supported with file-based tracking URI.\")\n",
        "\n",
        "if __name__ == \"__main__\":\n",
        "    main()"
      ]
    }
  ],
  "metadata": {
    "colab": {
      "authorship_tag": "ABX9TyP6VX4pf5vC9tNxpakwqjqW",
      "include_colab_link": true,
      "provenance": []
    },
    "kernelspec": {
      "display_name": ".venv (3.13.6)",
      "language": "python",
      "name": "python3"
    },
    "language_info": {
      "codemirror_mode": {
        "name": "ipython",
        "version": 3
      },
      "file_extension": ".py",
      "mimetype": "text/x-python",
      "name": "python",
      "nbconvert_exporter": "python",
      "pygments_lexer": "ipython3",
      "version": "3.13.6"
    }
  },
  "nbformat": 4,
  "nbformat_minor": 0
}
