{
  "nbformat": 4,
  "nbformat_minor": 0,
  "metadata": {
    "colab": {
      "provenance": [],
      "authorship_tag": "ABX9TyMu8BNAJsA4ernh8n8AKfXT",
      "include_colab_link": true
    },
    "kernelspec": {
      "name": "python3",
      "display_name": "Python 3"
    },
    "language_info": {
      "name": "python"
    }
  },
  "cells": [
    {
      "cell_type": "markdown",
      "metadata": {
        "id": "view-in-github",
        "colab_type": "text"
      },
      "source": [
        "<a href=\"https://colab.research.google.com/github/bits05368/mlops_group53/blob/main/src/train.ipynb\" target=\"_parent\"><img src=\"https://colab.research.google.com/assets/colab-badge.svg\" alt=\"Open In Colab\"/></a>"
      ]
    },
    {
      "cell_type": "code",
      "execution_count": null,
      "metadata": {
        "id": "EdQWi7YiNzxn"
      },
      "outputs": [],
      "source": [
        "import pandas as pd\n",
        "from sklearn.ensemble import RandomForestClassifier\n",
        "from sklearn.linear_model import LogisticRegression\n",
        "from sklearn.metrics import accuracy_score\n",
        "import mlflow"
      ]
    },
    {
      "cell_type": "code",
      "source": [
        "train = pd.read_csv('data/train.csv', header=None, names=column_names)\n",
        "X = train.drop('target', axis=1)\n",
        "y = train['target']\n",
        "with mlflow.start_run(run_name=\"logreg\"):\n",
        "  model1 = LogisticRegression().fit(X, y)\n",
        "  mlflow.sklearn.log_model(model1,\"logreg_model\")\n",
        "  mlflow.log_params({'model':'logreg'})\n",
        "  mlflow.log_metric('accuracy', model1.score(X, y))\n",
        "\n",
        "with mlflow.start_run(run_name=\"rf\"):\n",
        "  model2 = RandomForestClassifier().fit(X, y)\n",
        "  mlflow.sklearn.log_model(model2,\"rf_model\")\n",
        "  mlflow.log_params({'model':'random_forest'})\n",
        "  mlflow.log_metric('accuracy', model2.score(X, y))"
      ],
      "metadata": {
        "id": "unqbLl0nN7GQ"
      },
      "execution_count": null,
      "outputs": []
    }
  ]
}