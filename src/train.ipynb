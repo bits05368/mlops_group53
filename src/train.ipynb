{
  "nbformat": 4,
  "nbformat_minor": 0,
  "metadata": {
    "colab": {
      "provenance": [],
      "authorship_tag": "ABX9TyP6VX4pf5vC9tNxpakwqjqW",
      "include_colab_link": true
    },
    "kernelspec": {
      "name": "python3",
      "display_name": "Python 3"
    },
    "language_info": {
      "name": "python"
    }
  },
  "cells": [
    {
      "cell_type": "markdown",
      "metadata": {
        "id": "view-in-github",
        "colab_type": "text"
      },
      "source": [
        "<a href=\"https://colab.research.google.com/github/bits05368/mlops_group53/blob/main/src/train.ipynb\" target=\"_parent\"><img src=\"https://colab.research.google.com/assets/colab-badge.svg\" alt=\"Open In Colab\"/></a>"
      ]
    },
    {
      "cell_type": "code",
      "execution_count": null,
      "metadata": {
        "id": "9-ptsNY3SaFx"
      },
      "outputs": [],
      "source": [
        "%pip install mlflow"
      ]
    },
    {
      "cell_type": "code",
      "source": [
        "import mlflow\n",
        "import mlflow.sklearn\n",
        "from sklearn.model_selection import train_test_split\n",
        "from sklearn.linear_model import LogisticRegression\n",
        "from sklearn.ensemble import RandomForestClassifier\n",
        "from model import load_data, evaluate_model\n",
        "\n",
        "def main(data_path=\"data/iris.csv\", experiment_name=\"Iris-Experiment\"):\n",
        "    X, y = load_data(data_path)\n",
        "    X_train, X_test, y_train, y_test = train_test_split(\n",
        "        X, y, test_size=0.2, random_state=42\n",
        "    )\n",
        "\n",
        "    mlflow.set_experiment(experiment_name)\n",
        "\n",
        "    results = []  # store (model_name, accuracy, run_id)\n",
        "\n",
        "    # 1 Logistic Regression\n",
        "    with mlflow.start_run(run_name=\"LogisticRegression\") as run:\n",
        "        params = {\"max_iter\": 200}\n",
        "        mlflow.log_params(params)\n",
        "        model = LogisticRegression(**params)\n",
        "        acc = evaluate_model(model, X_train, X_test, y_train, y_test)\n",
        "        mlflow.log_metric(\"accuracy\", acc)\n",
        "        mlflow.sklearn.log_model(model, artifact_path=\"model\")\n",
        "        results.append((\"LogisticRegression\", acc, run.info.run_id))\n",
        "\n",
        "    # 2 Random Forest\n",
        "    with mlflow.start_run(run_name=\"RandomForest\") as run:\n",
        "        params = {\"n_estimators\": 100, \"random_state\": 42}\n",
        "        mlflow.log_params(params)\n",
        "        model = RandomForestClassifier(**params)\n",
        "        acc = evaluate_model(model, X_train, X_test, y_train, y_test)\n",
        "        mlflow.log_metric(\"accuracy\", acc)\n",
        "        mlflow.sklearn.log_model(model, artifact_path=\"model\")\n",
        "        results.append((\"RandomForest\", acc, run.info.run_id))\n",
        "\n",
        "    # Pick best model\n",
        "    best_model_name, best_acc, best_run_id = max(results, key=lambda x: x[1])\n",
        "    print(f\" Best model: {best_model_name} (accuracy={best_acc:.4f})\")\n",
        "\n",
        "    # Register best model in MLflow registry\n",
        "    # Requires MLFLOW_TRACKING_URI to point to a tracking server with registry support\n",
        "    model_uri = f\"runs:/{best_run_id}/model\"\n",
        "    mlflow.register_model(model_uri, \"IrisClassifier\")\n",
        "    print(f\" Registered {best_model_name} in MLflow Model Registry.\")\n",
        "\n",
        "if __name__ == \"__main__\":\n",
        "    main()"
      ],
      "metadata": {
        "id": "Dih3E0UxSbhk"
      },
      "execution_count": null,
      "outputs": []
    }
  ]
}