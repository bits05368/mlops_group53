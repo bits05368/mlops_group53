{
  "nbformat": 4,
  "nbformat_minor": 0,
  "metadata": {
    "colab": {
      "provenance": [],
      "authorship_tag": "ABX9TyNGa0Nb/QrgL4NIDV245nSH",
      "include_colab_link": true
    },
    "kernelspec": {
      "name": "python3",
      "display_name": "Python 3"
    },
    "language_info": {
      "name": "python"
    }
  },
  "cells": [
    {
      "cell_type": "markdown",
      "metadata": {
        "id": "view-in-github",
        "colab_type": "text"
      },
      "source": [
        "<a href=\"https://colab.research.google.com/github/bits05368/mlops_group53/blob/main/src/Model.ipynb\" target=\"_parent\"><img src=\"https://colab.research.google.com/assets/colab-badge.svg\" alt=\"Open In Colab\"/></a>"
      ]
    },
    {
      "cell_type": "code",
      "execution_count": null,
      "metadata": {
        "id": "KEBmfRTukWyj"
      },
      "outputs": [],
      "source": [
        "import pandas as pd\n",
        "from sklearn.ensemble import RandomForestClassifier\n",
        "from sklearn.model_selection import train_test_split\n",
        "from sklearn.metrics import accuracy_score\n",
        "import joblib\n",
        "\n",
        "def load_data(csv_path=\"data/iris.csv\"):\n",
        "    df = pd.read_csv(csv_path)\n",
        "    # \"target\" column should exist; if not, regenerate using sklearn's dataset\n",
        "    if \"target\" not in df.columns:\n",
        "        from sklearn.datasets import load_iris\n",
        "        iris = load_iris(as_frame=True)\n",
        "        df = iris.frame\n",
        "    X = df.drop(columns=[\"target\"])\n",
        "    y = df[\"target\"]\n",
        "    return X, y\n",
        "\n",
        "def train_and_evaluate(X, y, params):\n",
        "    X_train, X_test, y_train, y_test = train_test_split(\n",
        "        X, y, test_size=0.2, random_state=42\n",
        "    )\n",
        "    model = RandomForestClassifier(**params)\n",
        "    model.fit(X_train, y_train)\n",
        "    preds = model.predict(X_test)\n",
        "    acc = accuracy_score(y_test, preds)\n",
        "    return model, acc\n",
        "\n",
        "def save_model(model, path=\"model.joblib\"):\n",
        "    joblib.dump(model, path)"
      ]
    }
  ]
}