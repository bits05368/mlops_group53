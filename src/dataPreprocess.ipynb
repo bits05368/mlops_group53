{
  "nbformat": 4,
  "nbformat_minor": 0,
  "metadata": {
    "colab": {
      "provenance": [],
      "authorship_tag": "ABX9TyPmo3hnmhd9yRn8JqWskrMv",
      "include_colab_link": true
    },
    "kernelspec": {
      "name": "python3",
      "display_name": "Python 3"
    },
    "language_info": {
      "name": "python"
    }
  },
  "cells": [
    {
      "cell_type": "markdown",
      "metadata": {
        "id": "view-in-github",
        "colab_type": "text"
      },
      "source": [
        "<a href=\"https://colab.research.google.com/github/bits05368/mlops_group53/blob/main/src/dataPreprocess.ipynb\" target=\"_parent\"><img src=\"https://colab.research.google.com/assets/colab-badge.svg\" alt=\"Open In Colab\"/></a>"
      ]
    },
    {
      "cell_type": "code",
      "execution_count": null,
      "metadata": {
        "id": "2nl13fbOoarn"
      },
      "outputs": [],
      "source": [
        "import pandas as pd\n",
        "from sklearn.model_selection import train_test_split\n",
        "df = pd.read_csv('data/iris.csv')\n",
        "# Optional: Encode labels, handle missing values, etc.\n",
        "train, test = train_test_split(df, test_size=0.2, random_state=42)\n",
        "train.to_csv('data/train.csv', index=False)\n",
        "test.to_csv('data/test.csv', index=False)"
      ]
    }
  ]
}